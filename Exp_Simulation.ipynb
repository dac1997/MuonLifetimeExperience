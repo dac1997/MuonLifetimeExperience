{
  "cells": [
    {
      "cell_type": "markdown",
      "metadata": {
        "id": "view-in-github",
        "colab_type": "text"
      },
      "source": [
        "<a href=\"https://colab.research.google.com/github/dac1997/MuonLifetimeExperience/blob/main/Exp_Simulation.ipynb\" target=\"_parent\"><img src=\"https://colab.research.google.com/assets/colab-badge.svg\" alt=\"Open In Colab\"/></a>"
      ]
    },
    {
      "cell_type": "markdown",
      "id": "0af22de2",
      "metadata": {
        "id": "0af22de2"
      },
      "source": [
        "# Simulation of an exponential signal for the muon lifetime experiment"
      ]
    },
    {
      "cell_type": "code",
      "source": [],
      "metadata": {
        "id": "gd-ByU98b-Ur"
      },
      "id": "gd-ByU98b-Ur",
      "execution_count": null,
      "outputs": []
    },
    {
      "cell_type": "code",
      "execution_count": null,
      "id": "dc02e020",
      "metadata": {
        "id": "dc02e020"
      },
      "outputs": [],
      "source": [
        "import ROOT"
      ]
    },
    {
      "cell_type": "code",
      "execution_count": null,
      "id": "b510a13f",
      "metadata": {
        "id": "b510a13f"
      },
      "outputs": [],
      "source": [
        "# Diego Alberto Coloma Borja, 2023\n",
        "#python 3\n",
        "\n",
        "#import libraries\n",
        "from random import random\n",
        "import pandas as pd\n",
        "import matplotlib.pyplot as plt\n",
        "import numpy as np\n",
        "import scipy as spicy\n",
        "from scipy import stats\n",
        "from scipy.optimize import curve_fit\n",
        "from IPython.display import clear_output\n",
        "\n",
        "%matplotlib inline"
      ]
    },
    {
      "cell_type": "markdown",
      "id": "3689021f",
      "metadata": {
        "id": "3689021f"
      },
      "source": [
        "### Definition of the functions that are used to create the simulation and analyze the results given"
      ]
    },
    {
      "cell_type": "code",
      "execution_count": null,
      "id": "dabc5143",
      "metadata": {
        "id": "dabc5143"
      },
      "outputs": [],
      "source": [
        "def exp_function(x, a, tau):\n",
        "    return a*np.exp(-x/tau)\n",
        "\n",
        "def simulation_fitting(numberofentries=100000, tau_long=187, tau_short=75, create_pictures=\"no\"):\n",
        "\n",
        "    uniform=np.array([random() for j in range(numberofentries)])\n",
        "    array=-tau_long*np.log(1-uniform)\n",
        "\n",
        "    counts, bines , _ = plt.hist(array,bins=np.linspace(0,2048,2049),\n",
        "                             histtype= 'step', label=\"simulated signal\")\n",
        "\n",
        "    bin_centers    = (bines[:-1] + bines[1:])/2\n",
        "\n",
        "    fits_taus,fits_aplus,tau_errors, pulls  = [],[],[],[]\n",
        "    cutters = [0,5,6,7,8]\n",
        "\n",
        "    for i in cutters:\n",
        "      cut = i*tau_short\n",
        "      x   = bin_centers[cut:]\n",
        "      y   = counts[cut:]\n",
        "\n",
        "      fitting,cov = curve_fit(exp_function, x, y, p0=(numberofentries/200, tau_long))\n",
        "      theory      = exp_function(x,fitting[0],fitting[1])\n",
        "      #error       = np.sqrt(np.sum((np.array()-theory)**2)/len(y))\n",
        "      error       = np.sqrt(cov[0][0])\n",
        "      stat        = (fitting[1] - tau_long)/error\n",
        "\n",
        "      if create_pictures =='yes':\n",
        "        plt.plot(x,theory, linewidth=4,\n",
        "                 label =\"tau = %f\" %fitting[1])\n",
        "      fits_taus.append(fitting[1])\n",
        "      fits_aplus.append(fitting[0])\n",
        "      tau_errors.append(error)\n",
        "      pulls.append(stat)\n",
        "\n",
        "\n",
        "    if create_pictures==\"yes\":\n",
        "      plt.legend(fontsize=12)\n",
        "      plt.show()\n",
        "\n",
        "    baselines=[]\n",
        "    for i in cutters[1:]:\n",
        "      baselines.append(np.mean(counts[i*tau_long:]))\n",
        "\n",
        "    plt.close()\n",
        "\n",
        "    return fits_taus, fits_aplus, tau_errors, pulls, baselines\n",
        "\n",
        "\n",
        "def pull_sim_statistics(n_sims, numberofentries=10000, verbose=\"yes\"):\n",
        "\n",
        "    col_names  = [\"tau_full\", \"tau_5s\", \"tau_6s\",\"tau_7s\", \"tau_8s\",\n",
        "                  \"err_full\",\"err_5s\",\"err_6s\",\"err_7s\",\"err_8s\",\n",
        "                  \"spr_full\",\"spr_5s\",\"spr_6s\",\"spr_7s\",\"spr_8s\",\n",
        "                  \"base_5l\",\"base_6l\",\"base_7l\",\"base_8l\",\n",
        "                  \"amp_full\",\"amp_5s\",\"amp_6s\",\"amp_7s\",\"amp_8s\"]\n",
        "    rows=[]\n",
        "    for i in range(n_sims):\n",
        "        if verbose == \"yes\":\n",
        "            print(\"Running sim #\", i+1)\n",
        "        taus, aplus, errors, spread, baselines = simulation_fitting(numberofentries)\n",
        "        clear_output(wait='True')\n",
        "\n",
        "        rows.append(taus + errors + spread + baselines + aplus)\n",
        "    df=pd.DataFrame(rows, columns=col_names)\n",
        "\n",
        "    return df"
      ]
    },
    {
      "cell_type": "markdown",
      "id": "44ae49f6",
      "metadata": {
        "id": "44ae49f6"
      },
      "source": [
        "## Example of the running of one signal simulation"
      ]
    },
    {
      "cell_type": "code",
      "execution_count": null,
      "id": "f1fe9175",
      "metadata": {
        "id": "f1fe9175",
        "colab": {
          "base_uri": "https://localhost:8080/",
          "height": 467
        },
        "outputId": "db921f1d-013f-439f-fe24-f1629070f51f"
      },
      "outputs": [
        {
          "output_type": "display_data",
          "data": {
            "text/plain": [
              "<Figure size 640x480 with 1 Axes>"
            ],
            "image/png": "[encoded data removed]"
          },
          "metadata": {}
        },
        {
          "output_type": "stream",
          "name": "stdout",
          "text": [
            "[185.425619527158, 184.8963634739246, 183.34793485555602, 188.53928694709091, 192.30547746533742] [0.8821000683313509, 10.020539843741995, 15.319978525218694, 17.54796114482447, 22.56015214678399]\n"
          ]
        }
      ],
      "source": [
        "a,b,c,d,e = simulation_fitting(70000,create_pictures=\"yes\")\n",
        "print(a,c)\n",
        "#extra output: baseline from exponential 5 taus 6 tau 7 tau"
      ]
    },
    {
      "cell_type": "markdown",
      "source": [
        "## Example running the many simulations"
      ],
      "metadata": {
        "id": "VXRmym4su30Y"
      },
      "id": "VXRmym4su30Y"
    },
    {
      "cell_type": "code",
      "source": [
        "stats_exp_week  = pull_sim_statistics(1000,70000,\"yes\")\n",
        "print(stats_exp_week)"
      ],
      "metadata": {
        "id": "TewXI2JkvAqA"
      },
      "id": "TewXI2JkvAqA",
      "execution_count": null,
      "outputs": []
    },
    {
      "cell_type": "markdown",
      "id": "20e0b47f",
      "metadata": {
        "id": "20e0b47f"
      },
      "source": [
        "## Now running the pull_sim_statistics that run the given number of simulations"
      ]
    },
    {
      "cell_type": "markdown",
      "id": "a25a2dbc",
      "metadata": {
        "id": "a25a2dbc"
      },
      "source": [
        "#### Remember if you want to know how the simulation is coming along as it is running to change the verbose to \"yes\" before running"
      ]
    },
    {
      "cell_type": "code",
      "execution_count": null,
      "id": "9e3fc1da-efae-4197-b83b-33f2a290b85b",
      "metadata": {
        "id": "9e3fc1da-efae-4197-b83b-33f2a290b85b"
      },
      "outputs": [],
      "source": [
        "entriesperminute   = 31745/(3*86400)\n",
        "week = entriesperminute*86400*7"
      ]
    },
    {
      "cell_type": "code",
      "execution_count": null,
      "id": "b3c62a03",
      "metadata": {
        "id": "b3c62a03",
        "colab": {
          "base_uri": "https://localhost:8080/"
        },
        "outputId": "b31d79d9-044d-4862-e869-c8e1aabdbea2"
      },
      "outputs": [
        {
          "output_type": "stream",
          "name": "stdout",
          "text": [
            "Running sim # 1000\n"
          ]
        }
      ],
      "source": [
        "#Obtains: the statistics for weeks of counts\n",
        "stats_exp_week  = pull_sim_statistics(1000, int(week),\"yes\")\n",
        "stats_exp_3week  = pull_sim_statistics(1000, int(3*week),\"yes\")\n",
        "stats_exp_5week = pull_sim_statistics(1000, int(5*week), \"yes\")\n",
        "# outputs the information to a csv file\n",
        "stats_exp_week.to_csv(\"stats_exp_week.csv\")\n",
        "stats_exp_3week.to_csv(\"stats_exp_3week.csv\")\n",
        "stats_exp_5week.to_csv(\"stats_exp_5week.csv\")"
      ]
    },
    {
      "cell_type": "markdown",
      "id": "40df82a2-cfdd-4399-b167-a1cbab25360e",
      "metadata": {
        "id": "40df82a2-cfdd-4399-b167-a1cbab25360e"
      },
      "source": [
        "## 1000 Simulation Histogram\n",
        "Plot Histograms of the spread of the dataframe values change first dataframe and guesser according to change which simulation is used"
      ]
    },
    {
      "cell_type": "code",
      "execution_count": null,
      "id": "911bc2cd-fadb-44ec-895d-112fe9018d26",
      "metadata": {
        "id": "911bc2cd-fadb-44ec-895d-112fe9018d26"
      },
      "outputs": [],
      "source": [
        "def gauss_fitti(binning, counts, initial_guess):\n",
        "    bin_mids = (binning[:-1] + binning[1:])/2.\n",
        "    parameters, _ = curve_fit(pana_gauss, bin_mids, counts, p0=initial_guess)\n",
        "    media = parameters[0]\n",
        "    desvi = parameters[1]\n",
        "\n",
        "    return media,desvi\n",
        "\n",
        "def pana_gauss(x, u , sigma):\n",
        "    '''function that defines the gauss function to fit parameters\n",
        "       u     - mean of the function\n",
        "       sigma - standard deviation\n",
        "       x.    -      input'''\n",
        "\n",
        "    c = np.sqrt(2 * np.pi)\n",
        "    return np.exp(-0.5 * ((x-u)/ sigma)**2) / sigma / c"
      ]
    },
    {
      "cell_type": "code",
      "source": [
        "def plotter(dataf, naming=\"gen\", create_figures=\"yes\"):\n",
        "  tau_columnns = dataf.columns.values.tolist()\n",
        "\n",
        "  timel_vals   = []\n",
        "  for cut in tau_columnns[0:5]:\n",
        "    time, bines,_ = plt.hist(dataf[cut],bins=50,density =\"True\",\n",
        "                            histtype=\"step\")\n",
        "    gauss_t,_ = gauss_fitti(bines,time,(180,10))\n",
        "    timel_vals.append(gauss_t)\n",
        "\n",
        "  plt.title(\"LifeTime from Simulation for a %s period\" %naming)\n",
        "  plt.legend([\"%s : %.5f\" %(i,j) for i,j in zip(tau_columnns[0:5], timel_vals)])\n",
        "  if create_figures==\"yes\":\n",
        "    plt.show()\n",
        "  plt.savefig(\"Exp_Lifetime_%s.png\" %(naming))\n",
        "  plt.close()\n",
        "\n",
        "  err_vals=[]\n",
        "  for cut in tau_columnns[5:10]:\n",
        "    errors, bines,_ = plt.hist(dataf[cut],bins=50,density =\"True\",\n",
        "                               histtype=\"step\")\n",
        "    gauss_e,_ = gauss_fitti(bines,errors,(10,5))\n",
        "    err_vals.append(gauss_e)\n",
        "\n",
        "  plt.title(\"Lifetime Errors from Simulation for a %s period\" %naming)\n",
        "  plt.legend([\"%s : %.5f\" %(i,j) for i,j in zip(tau_columnns[5:10], err_vals)])\n",
        "  if create_figures==\"yes\":\n",
        "    plt.show()\n",
        "  plt.savefig(\"Exp_LifetimeError_%s.png\" %(naming))\n",
        "  plt.close()\n",
        "\n",
        "  pull_vals=[]\n",
        "  std_chk  =[]\n",
        "  for cut in tau_columnns[10:15]:\n",
        "    pulles, bines,_ = plt.hist(dataf[cut],bins=50,density =\"True\",\n",
        "                               histtype=\"step\")\n",
        "    gauss_p,std = gauss_fitti(bines,pulles,(0,1))\n",
        "    pull_vals.append(gauss_p)\n",
        "    std_chk.append(std)\n",
        "\n",
        "  plt.title(\"Lifetime Pulls from Simulation for a %s period\" %naming)\n",
        "  plt.legend([\"%s : %.3f +- %.2f\" %(i,j,k) for i,j,k in zip(tau_columnns[10:15], pull_vals,std_chk)])\n",
        "  if create_figures==\"yes\":\n",
        "    plt.show()\n",
        "  plt.savefig(\"Exp_LifetimePull_%s.png\" %(naming))\n",
        "  plt.close()\n",
        "\n",
        "  base_vals=[]\n",
        "  for cut in tau_columnns[15:19]:\n",
        "    basex, bines,_ = plt.hist(dataf[cut],bins=50,density =\"True\",\n",
        "                               histtype=\"step\")\n",
        "    gauss_b,_ = gauss_fitti(bines,basex,(0,1))\n",
        "    base_vals.append(gauss_b)\n",
        "\n",
        "  plt.title(\"Extracted Baselines from Simulation for a %s period\" %naming)\n",
        "  plt.legend([\"%s : %.5f\" %(i,j) for i,j in zip(tau_columnns[15:19], base_vals)])\n",
        "  if create_figures==\"yes\":\n",
        "    plt.show()\n",
        "  plt.savefig(\"Exp_LifetimeBases_%s.png\" %(naming))\n",
        "  plt.close()\n",
        "\n",
        "  return timel_vals, err_vals, pull_vals, base_vals"
      ],
      "metadata": {
        "id": "ucc62GMexjOO"
      },
      "id": "ucc62GMexjOO",
      "execution_count": null,
      "outputs": []
    },
    {
      "cell_type": "code",
      "execution_count": null,
      "id": "90c9e728-7533-4314-aa2c-a464981448cd",
      "metadata": {
        "id": "90c9e728-7533-4314-aa2c-a464981448cd",
        "outputId": "5194362b-b76a-4258-a891-efc1e62f831a",
        "colab": {
          "base_uri": "https://localhost:8080/"
        }
      },
      "outputs": [
        {
          "output_type": "stream",
          "name": "stdout",
          "text": [
            "Values for simulated week of data taking at different cuts\n",
            "Tau long estimation: 187.01458 +/- 0.87596\n",
            "Tau long estimation: 187.02714 +/- 9.52802\n",
            "Tau long estimation: 187.08830 +/- 13.71588\n",
            "Tau long estimation: 187.42621 +/- 19.23757\n",
            "Tau long estimation: 187.53222 +/- 26.86024\n",
            "Baseline for simulated week of data taking at different cuts\n",
            "Baseline Mean      : 0.44778\n",
            "Baseline Mean      : 0.19723\n",
            "Baseline Mean      : 0.08946\n",
            "Baseline Mean      : 0.04223\n"
          ]
        }
      ],
      "source": [
        "time,error,pull,basel = plotter(stats_exp_week, \"week\",\"no\")\n",
        "printer =[\"Tau long estimation: %.5f +/- %.5f\" %(i,j) for i,j in zip(time, error) ]\n",
        "print(\"Values for simulated week of data taking at different cuts\")\n",
        "for i in printer:\n",
        "  print(i)\n",
        "print(\"Baseline for simulated week of data taking at different cuts\")\n",
        "for bases in basel:\n",
        "  print(\"Baseline Mean      : %.5f\"%bases)"
      ]
    },
    {
      "cell_type": "code",
      "execution_count": null,
      "id": "9cbd0f8d-aaf1-43ef-bf73-06e079aec999",
      "metadata": {
        "id": "9cbd0f8d-aaf1-43ef-bf73-06e079aec999",
        "outputId": "169dfc44-dcaf-49f5-8de1-83a1096c7e39",
        "colab": {
          "base_uri": "https://localhost:8080/"
        }
      },
      "outputs": [
        {
          "output_type": "stream",
          "name": "stdout",
          "text": [
            "Values for simulated 3 week of data taking at different cuts\n",
            "Tau long estimation: 187.02350 +/- 1.96019\n",
            "Tau long estimation: 186.94152 +/- 21.35428\n",
            "Tau long estimation: 186.99313 +/- 30.76336\n",
            "Tau long estimation: 187.14175 +/- 43.65907\n",
            "Tau long estimation: 187.04559 +/- 10.00000\n",
            "Baseline for simulated 3 week of data taking at different cuts\n",
            "Baseline Mean      : 2.23666\n",
            "Baseline Mean      : 0.98452\n",
            "Baseline Mean      : 0.44941\n",
            "Baseline Mean      : 0.21353\n"
          ]
        }
      ],
      "source": [
        "time,error,pull,basel = plotter(stats_exp_5week, \"3week\",\"no\")\n",
        "printer =[\"Tau long estimation: %.5f +/- %.5f\" %(i,j) for i,j in zip(time, error) ]\n",
        "print(\"Values for simulated 3 week of data taking at different cuts\")\n",
        "for i in printer:\n",
        "  print(i)\n",
        "print(\"Baseline for simulated 3 week of data taking at different cuts\")\n",
        "for bases in basel:\n",
        "  print(\"Baseline Mean      : %.5f\"%bases)"
      ]
    },
    {
      "cell_type": "code",
      "execution_count": null,
      "id": "5605320e-17a8-4c19-a7bf-b46d1b5207ad",
      "metadata": {
        "id": "5605320e-17a8-4c19-a7bf-b46d1b5207ad",
        "outputId": "239d6c62-b871-4748-8618-5ddef062f9d9",
        "colab": {
          "base_uri": "https://localhost:8080/"
        }
      },
      "outputs": [
        {
          "output_type": "stream",
          "name": "stdout",
          "text": [
            "time used: 11.31373143196106\n"
          ]
        }
      ],
      "source": []
    },
    {
      "cell_type": "markdown",
      "source": [],
      "metadata": {
        "id": "2dcc5d22-24a7-4a7c-a1d7-dbd6d79ba1b6"
      },
      "id": "2dcc5d22-24a7-4a7c-a1d7-dbd6d79ba1b6"
    }
  ],
  "metadata": {
    "kernelspec": {
      "display_name": "Python 3 (ipykernel)",
      "language": "python",
      "name": "python3"
    },
    "language_info": {
      "codemirror_mode": {
        "name": "ipython",
        "version": 3
      },
      "file_extension": ".py",
      "mimetype": "text/x-python",
      "name": "python",
      "nbconvert_exporter": "python",
      "pygments_lexer": "ipython3",
      "version": "3.10.12"
    },
    "colab": {
      "provenance": [],
      "include_colab_link": true
    }
  },
  "nbformat": 4,
  "nbformat_minor": 5
}